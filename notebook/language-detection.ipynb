{
 "cells": [
  {
   "cell_type": "code",
   "execution_count": 1,
   "metadata": {
    "_cell_guid": "b1076dfc-b9ad-4769-8c92-a6c4dae69d19",
    "_uuid": "8f2839f25d086af736a60e9eeb907d3b93b6e0e5"
   },
   "outputs": [
    {
     "name": "stdout",
     "output_type": "stream",
     "text": [
      "\n",
      "CPU times: user 2.84 s, sys: 102 ms, total: 2.95 s\n",
      "Wall time: 995 ms\n"
     ]
    }
   ],
   "source": [
    "%%time\n",
    "\n",
    "# Installing select libraries:-\n",
    "from gc import collect; # garbage collection to free up memory\n",
    "from warnings import filterwarnings; # handle warning messages\n",
    "\n",
    "import re\n",
    "\n",
    "from sklearn.preprocessing import LabelEncoder\n",
    "from sklearn.model_selection import train_test_split\n",
    "from sklearn.feature_extraction.text import CountVectorizer\n",
    "from sklearn.naive_bayes import MultinomialNB\n",
    "\n",
    "import numpy as np # linear algebra\n",
    "import pandas as pd # data processing\n",
    "import matplotlib.pyplot as plt # data visualization\n",
    "import seaborn as sns # statistical data visualization\n",
    "\n",
    "filterwarnings('ignore'); # Ignore warning messages\n",
    "print();\n",
    "collect();"
   ]
  },
  {
   "cell_type": "code",
   "execution_count": 2,
   "metadata": {},
   "outputs": [],
   "source": [
    "class color:\n",
    "    GRAY = '\\033[90m'\n",
    "    LIGHT_BLUE = '\\033[94m'\n",
    "    BLUE = '\\033[94m'\n",
    "    CYAN = '\\033[96m'\n",
    "    BOLD = '\\033[1m'\n",
    "    RED = '\\033[91m'\n",
    "    END = '\\033[0m'\n",
    "    UNDERLINE = '\\033[4m'\n",
    "    GREEN = '\\033[92m'\n",
    "    YELLOW = '\\033[93m'\n",
    "    MAGENTA = '\\033[95m'\n",
    "    WHITE = '\\033[97m'\n",
    "    BLACK = '\\033[30m'\n",
    "    LIGHT_RED = '\\033[91m'\n",
    "    LIGHT_GREEN = '\\033[92m'\n",
    "    LIGHT_YELLOW = '\\033[93m'\n",
    "    LIGHT_BLUE = '\\033[94m'\n",
    "    LIGHT_MAGENTA = '\\033[95m'\n",
    "    LIGHT_CYAN = '\\033[96m'\n",
    "    LIGHT_WHITE = '\\033[97m'\n",
    "    PINK = '\\033[95m'\n",
    "    RESET = '\\033[0m'"
   ]
  },
  {
   "cell_type": "code",
   "execution_count": 3,
   "metadata": {},
   "outputs": [
    {
     "name": "stdout",
     "output_type": "stream",
     "text": [
      "\u001B[92mDataset loaded successfully.\u001B[0m\n",
      "\u001B[94m\n",
      "CPU times: user 66 ms, sys: 0 ns, total: 66 ms\n",
      "Wall time: 65.6 ms\n"
     ]
    }
   ],
   "source": [
    "%%time\n",
    "\n",
    "# Error Handling When Loading Dataset with Pandas read_csv\n",
    "\n",
    "try:\n",
    "    # Attempt to read the dataset\n",
    "    df = pd.read_csv('../data/Language Detection.csv')\n",
    "    print(f\"{color.GREEN}Dataset loaded successfully.{color.END}\")\n",
    "    \n",
    "except FileNotFoundError:\n",
    "    # Handle FileNotFoundError if the file does not exist\n",
    "    print(f\"{color.RED}Error: File not found. Please check the file path.{color.END}\")\n",
    "\n",
    "except Exception as e:\n",
    "    # Handle other exceptions\n",
    "    print(f\"{color.RED}An error occurred while loading the dataset: {e}{color.END}\")\n",
    "\n",
    "print(color.BLUE)\n",
    "collect();"
   ]
  },
  {
   "cell_type": "code",
   "execution_count": 4,
   "metadata": {},
   "outputs": [
    {
     "name": "stdout",
     "output_type": "stream",
     "text": [
      "<class 'pandas.core.frame.DataFrame'>\n",
      "RangeIndex: 10337 entries, 0 to 10336\n",
      "Data columns (total 2 columns):\n",
      " #   Column    Non-Null Count  Dtype \n",
      "---  ------    --------------  ----- \n",
      " 0   Text      10337 non-null  object\n",
      " 1   Language  10337 non-null  object\n",
      "dtypes: object(2)\n",
      "memory usage: 161.6+ KB\n"
     ]
    }
   ],
   "source": [
    "df.info()"
   ]
  },
  {
   "cell_type": "code",
   "execution_count": 5,
   "metadata": {},
   "outputs": [
    {
     "data": {
      "text/html": [
       "<div>\n",
       "<style scoped>\n",
       "    .dataframe tbody tr th:only-of-type {\n",
       "        vertical-align: middle;\n",
       "    }\n",
       "\n",
       "    .dataframe tbody tr th {\n",
       "        vertical-align: top;\n",
       "    }\n",
       "\n",
       "    .dataframe thead th {\n",
       "        text-align: right;\n",
       "    }\n",
       "</style>\n",
       "<table border=\"1\" class=\"dataframe\">\n",
       "  <thead>\n",
       "    <tr style=\"text-align: right;\">\n",
       "      <th></th>\n",
       "      <th>Text</th>\n",
       "      <th>Language</th>\n",
       "    </tr>\n",
       "  </thead>\n",
       "  <tbody>\n",
       "    <tr>\n",
       "      <th>0</th>\n",
       "      <td>Nature, in the broadest sense, is the natural...</td>\n",
       "      <td>English</td>\n",
       "    </tr>\n",
       "    <tr>\n",
       "      <th>1</th>\n",
       "      <td>\"Nature\" can refer to the phenomena of the phy...</td>\n",
       "      <td>English</td>\n",
       "    </tr>\n",
       "    <tr>\n",
       "      <th>2</th>\n",
       "      <td>The study of nature is a large, if not the onl...</td>\n",
       "      <td>English</td>\n",
       "    </tr>\n",
       "    <tr>\n",
       "      <th>3</th>\n",
       "      <td>Although humans are part of nature, human acti...</td>\n",
       "      <td>English</td>\n",
       "    </tr>\n",
       "    <tr>\n",
       "      <th>4</th>\n",
       "      <td>[1] The word nature is borrowed from the Old F...</td>\n",
       "      <td>English</td>\n",
       "    </tr>\n",
       "  </tbody>\n",
       "</table>\n",
       "</div>"
      ],
      "text/plain": [
       "                                                Text Language\n",
       "0   Nature, in the broadest sense, is the natural...  English\n",
       "1  \"Nature\" can refer to the phenomena of the phy...  English\n",
       "2  The study of nature is a large, if not the onl...  English\n",
       "3  Although humans are part of nature, human acti...  English\n",
       "4  [1] The word nature is borrowed from the Old F...  English"
      ]
     },
     "execution_count": 5,
     "metadata": {},
     "output_type": "execute_result"
    }
   ],
   "source": [
    "df.head()"
   ]
  },
  {
   "cell_type": "code",
   "execution_count": 6,
   "metadata": {},
   "outputs": [
    {
     "name": "stdout",
     "output_type": "stream",
     "text": [
      "\u001B[94mThe dataset contains\u001B[0m 10337 \u001B[94mrows and \u001B[0m2 \u001B[94mcolumns\u001B[0m\n"
     ]
    }
   ],
   "source": [
    "# Checking the data shape\n",
    "\n",
    "print(f'{color.BLUE}The dataset contains{color.END} {df.shape[0]} {color.BLUE}rows and {color.END}', end='')\n",
    "print(f'{df.shape[1]} {color.BLUE}columns{color.END}')"
   ]
  },
  {
   "cell_type": "markdown",
   "metadata": {},
   "source": [
    "# Handle Duplicate values"
   ]
  },
  {
   "cell_type": "code",
   "execution_count": 7,
   "metadata": {},
   "outputs": [
    {
     "name": "stdout",
     "output_type": "stream",
     "text": [
      "\u001B[94mThe data contains \u001B[1m\u001B[91m66\u001B[0m \u001B[94mduplicate values\n"
     ]
    }
   ],
   "source": [
    "# Checking the duplicate values in the data\n",
    "duplicate_values = df.duplicated().sum()\n",
    "print(color.BLUE + f'The data contains {color.BOLD + color.RED}{duplicate_values}{color.END} {color.BLUE}duplicate values')"
   ]
  },
  {
   "cell_type": "code",
   "execution_count": 8,
   "metadata": {},
   "outputs": [
    {
     "name": "stdout",
     "output_type": "stream",
     "text": [
      "\u001B[92mDataset after removing duplicates: (10271, 2)\u001B[0m\n"
     ]
    }
   ],
   "source": [
    "# Remove duplicate rows in place\n",
    "df.drop_duplicates(inplace=True)\n",
    "\n",
    "# Check the shape of the dataset to confirm duplicates are removed\n",
    "print(color.GREEN + f\"Dataset after removing duplicates: {df.shape}\" + color.END)"
   ]
  },
  {
   "cell_type": "markdown",
   "metadata": {},
   "source": [
    "# Missing Values"
   ]
  },
  {
   "cell_type": "code",
   "execution_count": 9,
   "metadata": {},
   "outputs": [
    {
     "name": "stdout",
     "output_type": "stream",
     "text": [
      "\u001B[92mMissing Values in Each Column:\u001B[0m\n",
      "Text        0\n",
      "Language    0\n",
      "dtype: int64\n"
     ]
    }
   ],
   "source": [
    "# Check for missing values\n",
    "missing_values = df.isnull().sum()\n",
    "\n",
    "# Print the missing values in green\n",
    "print(color.GREEN + \"Missing Values in Each Column:\" + color.END)\n",
    "print(missing_values)"
   ]
  },
  {
   "cell_type": "markdown",
   "metadata": {},
   "source": [
    "# Text Preprocessing"
   ]
  },
  {
   "cell_type": "code",
   "execution_count": 10,
   "metadata": {},
   "outputs": [],
   "source": [
    "# Define preprocessing function\n",
    "def preprocess_text(text):\n",
    "    # Remove punctuation, numbers, and convert to lowercase\n",
    "    text = re.sub(r'[^\\w\\s]', '', text).lower()\n",
    "    text = re.sub(r'\\d+', '', text)\n",
    "    return text\n",
    "\n",
    "df['Text'] = df['Text'].apply(preprocess_text)"
   ]
  },
  {
   "cell_type": "markdown",
   "metadata": {},
   "source": [
    "# EDA"
   ]
  },
  {
   "cell_type": "markdown",
   "metadata": {},
   "source": [
    "## Language Distribution"
   ]
  },
  {
   "cell_type": "code",
   "execution_count": 11,
   "metadata": {},
   "outputs": [
    {
     "data": {
      "text/plain": [
       "Language\n",
       "English       1382\n",
       "French        1007\n",
       "Spanish        816\n",
       "Portugeese     736\n",
       "Italian        694\n",
       "Russian        688\n",
       "Sweedish       673\n",
       "Malayalam      591\n",
       "Dutch          542\n",
       "Arabic         532\n",
       "Turkish        471\n",
       "German         465\n",
       "Tamil          464\n",
       "Danish         424\n",
       "Kannada        366\n",
       "Greek          358\n",
       "Hindi           62\n",
       "Name: count, dtype: int64"
      ]
     },
     "execution_count": 11,
     "metadata": {},
     "output_type": "execute_result"
    }
   ],
   "source": [
    "# 1. Language frequency analysis\n",
    "df['Language'].value_counts()"
   ]
  },
  {
   "cell_type": "code",
   "execution_count": 12,
   "metadata": {},
   "outputs": [
    {
     "data": {
      "image/png": "[encoded data removed]",
      "text/plain": [
       "<Figure size 640x480 with 1 Axes>"
      ]
     },
     "metadata": {},
     "output_type": "display_data"
    }
   ],
   "source": [
    "df['Language'].value_counts().plot(kind='bar')\n",
    "plt.title('Language Distribution')\n",
    "plt.show()"
   ]
  },
  {
   "cell_type": "markdown",
   "metadata": {},
   "source": [
    "## Word Frequency"
   ]
  },
  {
   "cell_type": "code",
   "execution_count": 13,
   "metadata": {},
   "outputs": [
    {
     "data": {
      "text/plain": [
       "[('de', 3489),\n",
       " ('a', 1876),\n",
       " ('the', 1614),\n",
       " ('en', 1525),\n",
       " ('la', 1470),\n",
       " ('क', 1404),\n",
       " ('que', 1295),\n",
       " ('in', 1225),\n",
       " ('of', 1130),\n",
       " ('ह', 1029)]"
      ]
     },
     "execution_count": 13,
     "metadata": {},
     "output_type": "execute_result"
    }
   ],
   "source": [
    "from collections import Counter\n",
    "all_words = ' '.join(df['Text']).split()\n",
    "word_freq = Counter(all_words)\n",
    "word_freq.most_common(10)  # Top 10 most frequent words"
   ]
  },
  {
   "cell_type": "code",
   "execution_count": 14,
   "metadata": {},
   "outputs": [],
   "source": [
    "# Manually calculate the number of words in each row and create a new column\n",
    "num_of_words = []\n",
    "for text in df['Text']:\n",
    "    word_count = len(str(text).split())  # Split the text into words and count them\n",
    "    num_of_words.append(word_count)\n",
    "\n",
    "# Add the manually calculated column to the DataFrame\n",
    "df['Num_of_Words'] = num_of_words"
   ]
  },
  {
   "cell_type": "markdown",
   "metadata": {},
   "source": [
    "# Label encoding"
   ]
  },
  {
   "cell_type": "code",
   "execution_count": 15,
   "metadata": {},
   "outputs": [],
   "source": [
    "# Separating independent and dependent features\n",
    "X = df[\"Text\"]  # Independent feature\n",
    "y = df[\"Language\"]  # Dependent feature"
   ]
  },
  {
   "cell_type": "code",
   "execution_count": 16,
   "metadata": {},
   "outputs": [],
   "source": [
    "X_train, X_test, y_train, y_test = train_test_split(X, y, test_size=0.2, random_state=42)"
   ]
  },
  {
   "cell_type": "code",
   "execution_count": 17,
   "metadata": {},
   "outputs": [],
   "source": [
    "# Label encode the dependent feature\n",
    "encoder = LabelEncoder()\n",
    "y_train_encoded = encoder.fit_transform(y_train)\n",
    "y_test_encoded = encoder.transform(y_test)"
   ]
  },
  {
   "cell_type": "code",
   "execution_count": 18,
   "metadata": {},
   "outputs": [
    {
     "name": "stdout",
     "output_type": "stream",
     "text": [
      "Encoded Value: 0 -> Language: Arabic\n",
      "Encoded Value: 1 -> Language: Danish\n",
      "Encoded Value: 2 -> Language: Dutch\n",
      "Encoded Value: 3 -> Language: English\n",
      "Encoded Value: 4 -> Language: French\n",
      "Encoded Value: 5 -> Language: German\n",
      "Encoded Value: 6 -> Language: Greek\n",
      "Encoded Value: 7 -> Language: Hindi\n",
      "Encoded Value: 8 -> Language: Italian\n",
      "Encoded Value: 9 -> Language: Kannada\n",
      "Encoded Value: 10 -> Language: Malayalam\n",
      "Encoded Value: 11 -> Language: Portugeese\n",
      "Encoded Value: 12 -> Language: Russian\n",
      "Encoded Value: 13 -> Language: Spanish\n",
      "Encoded Value: 14 -> Language: Sweedish\n",
      "Encoded Value: 15 -> Language: Tamil\n",
      "Encoded Value: 16 -> Language: Turkish\n"
     ]
    }
   ],
   "source": [
    "# Display the mapping of labels to encoded values\n",
    "for idx, label in enumerate(encoder.classes_):\n",
    "    print(f\"Encoded Value: {idx} -> Language: {label}\")"
   ]
  },
  {
   "cell_type": "markdown",
   "metadata": {},
   "source": [
    "## Term Frequency-Inverse Document Frequency"
   ]
  },
  {
   "cell_type": "code",
   "execution_count": 19,
   "metadata": {},
   "outputs": [],
   "source": [
    "from sklearn.feature_extraction.text import TfidfVectorizer\n",
    "\n",
    "vectorizer = TfidfVectorizer()\n",
    "X_train_tfidf = vectorizer.fit_transform(X_train)\n",
    "X_test_tfidf = vectorizer.transform(X_test)"
   ]
  },
  {
   "cell_type": "code",
   "execution_count": 20,
   "metadata": {},
   "outputs": [
    {
     "name": "stdout",
     "output_type": "stream",
     "text": [
      "Accuracy: 0.95\n",
      "              precision    recall  f1-score   support\n",
      "\n",
      "      Arabic       1.00      0.96      0.98       121\n",
      "      Danish       0.99      0.93      0.96        85\n",
      "       Dutch       1.00      0.94      0.97       108\n",
      "     English       0.77      1.00      0.87       290\n",
      "      French       0.97      0.99      0.98       210\n",
      "      German       1.00      0.95      0.98        86\n",
      "       Greek       1.00      0.94      0.97        65\n",
      "       Hindi       1.00      0.62      0.77         8\n",
      "     Italian       1.00      0.96      0.98       130\n",
      "     Kannada       1.00      0.94      0.97        70\n",
      "   Malayalam       1.00      0.91      0.95       122\n",
      "  Portugeese       0.99      0.96      0.98       139\n",
      "     Russian       1.00      0.97      0.99       119\n",
      "     Spanish       0.99      0.97      0.98       160\n",
      "    Sweedish       0.98      0.97      0.98       150\n",
      "       Tamil       1.00      0.88      0.94        86\n",
      "     Turkish       1.00      0.81      0.90       106\n",
      "\n",
      "    accuracy                           0.95      2055\n",
      "   macro avg       0.98      0.92      0.95      2055\n",
      "weighted avg       0.96      0.95      0.95      2055\n",
      "\n"
     ]
    }
   ],
   "source": [
    "from sklearn.naive_bayes import MultinomialNB\n",
    "from sklearn.metrics import accuracy_score, classification_report# Initialize the MultinomialNB classifier\n",
    "model = MultinomialNB()\n",
    "\n",
    "# Train the model\n",
    "model.fit(X_train_tfidf, y_train_encoded)\n",
    "\n",
    "# Predict on test data\n",
    "y_pred = model.predict(X_test_tfidf)\n",
    "\n",
    "# Calculate accuracy\n",
    "accuracy = accuracy_score(y_test_encoded, y_pred)\n",
    "print(f\"Accuracy: {accuracy:.2f}\")\n",
    "\n",
    "# Detailed classification report\n",
    "print(classification_report(y_test_encoded, y_pred, target_names=encoder.classes_))"
   ]
  },
  {
   "cell_type": "markdown",
   "metadata": {},
   "source": [
    "## CountVectorizer"
   ]
  },
  {
   "cell_type": "code",
   "execution_count": 21,
   "metadata": {},
   "outputs": [],
   "source": [
    "from sklearn.feature_extraction.text import CountVectorizer\n",
    "\n",
    "def custom_tokenizer(text):\n",
    "    return text.split()  # Simple space-based tokenizer\n",
    "\n",
    "# Transform text data using CountVectorizer\n",
    "vectorizer = CountVectorizer(tokenizer=custom_tokenizer)\n",
    "X_train_counts = vectorizer.fit_transform(X_train)  # Fit and transform training data\n",
    "X_test_counts = vectorizer.transform(X_test)        # Transform test data"
   ]
  },
  {
   "cell_type": "code",
   "execution_count": 22,
   "metadata": {},
   "outputs": [],
   "source": [
    "# Train the MultinomialNB model\n",
    "model = MultinomialNB()\n",
    "model.fit(X_train_counts, y_train_encoded)\n",
    "\n",
    "# Evaluate the model\n",
    "y_pred = model.predict(X_test_counts)\n",
    "accuracy = accuracy_score(y_test_encoded, y_pred)\n",
    "classification = classification_report(y_test_encoded, y_pred, target_names=encoder.classes_)"
   ]
  },
  {
   "cell_type": "code",
   "execution_count": 23,
   "metadata": {},
   "outputs": [
    {
     "name": "stdout",
     "output_type": "stream",
     "text": [
      "Accuracy: 0.98\n",
      "\n",
      "Classification Report:\n",
      "              precision    recall  f1-score   support\n",
      "\n",
      "      Arabic       1.00      0.98      0.99       121\n",
      "      Danish       0.99      0.96      0.98        85\n",
      "       Dutch       1.00      0.97      0.99       108\n",
      "     English       0.88      1.00      0.94       290\n",
      "      French       0.99      0.99      0.99       210\n",
      "      German       1.00      1.00      1.00        86\n",
      "       Greek       1.00      0.98      0.99        65\n",
      "       Hindi       1.00      1.00      1.00         8\n",
      "     Italian       1.00      0.97      0.98       130\n",
      "     Kannada       1.00      0.97      0.99        70\n",
      "   Malayalam       1.00      0.98      0.99       122\n",
      "  Portugeese       0.98      0.97      0.97       139\n",
      "     Russian       1.00      0.98      0.99       119\n",
      "     Spanish       0.99      0.96      0.98       160\n",
      "    Sweedish       0.99      0.98      0.98       150\n",
      "       Tamil       1.00      0.98      0.99        86\n",
      "     Turkish       1.00      0.92      0.96       106\n",
      "\n",
      "    accuracy                           0.98      2055\n",
      "   macro avg       0.99      0.98      0.98      2055\n",
      "weighted avg       0.98      0.98      0.98      2055\n",
      "\n"
     ]
    }
   ],
   "source": [
    "# Display results\n",
    "print(f\"Accuracy: {accuracy:.2f}\")\n",
    "print(\"\\nClassification Report:\")\n",
    "print(classification)"
   ]
  },
  {
   "cell_type": "code",
   "execution_count": 24,
   "metadata": {},
   "outputs": [],
   "source": [
    "# Prediction function\n",
    "def predict(text):\n",
    "    if not isinstance(text, str) or len(text.strip()) == 0:\n",
    "        print(\"Invalid input text. Please provide valid text.\")\n",
    "        return\n",
    "    \n",
    "    # Preprocess the input\n",
    "    processed_text = preprocess_text(text)\n",
    "    \n",
    "    # Convert text to bag-of-words vector\n",
    "    x = vectorizer.transform([processed_text])\n",
    "    \n",
    "    # Predict the language\n",
    "    lang = model.predict(x)\n",
    "    lang = encoder.inverse_transform(lang)\n",
    "    print(\"The language is:\", lang[0])"
   ]
  },
  {
   "cell_type": "code",
   "execution_count": 25,
   "metadata": {},
   "outputs": [
    {
     "name": "stdout",
     "output_type": "stream",
     "text": [
      "The language is: English\n",
      "The language is: Hindi\n"
     ]
    }
   ],
   "source": [
    "predict(\"This is an English sentence.\")  # Example in English\n",
    "predict(\"हम तेरे बिन अब रह नहीं सकते\")"
   ]
  },
  {
   "cell_type": "code",
   "execution_count": 26,
   "metadata": {},
   "outputs": [],
   "source": [
    "# import pickle\n",
    "\n",
    "# # Save the trained model\n",
    "# with open('language_model.pkl', 'wb') as model_file:\n",
    "#     pickle.dump(model, model_file)\n",
    "\n",
    "# # Save the CountVectorizer\n",
    "# with open('vectorizer.pkl', 'wb') as vectorizer_file:\n",
    "#     pickle.dump(vectorizer, vectorizer_file)\n",
    "\n",
    "# # Save the LabelEncoder\n",
    "# with open('label_encoder.pkl', 'wb') as encoder_file:\n",
    "#     pickle.dump(encoder, encoder_file)"
   ]
  },
  {
   "cell_type": "code",
   "execution_count": 27,
   "metadata": {},
   "outputs": [
    {
     "name": "stdout",
     "output_type": "stream",
     "text": [
      "Model, vectorizer, and encoder saved successfully!\n"
     ]
    }
   ],
   "source": [
    "import joblib\n",
    "\n",
    "# Save the trained model using joblib\n",
    "joblib.dump(model, '../models/language_model.joblib')\n",
    "\n",
    "# Save the CountVectorizer using joblib\n",
    "joblib.dump(vectorizer, '../models/vectorizer.joblib')\n",
    "\n",
    "# Save the LabelEncoder using joblib\n",
    "joblib.dump(encoder, '../models/label_encoder.joblib')\n",
    "\n",
    "print(\"Model, vectorizer, and encoder saved successfully!\")"
   ]
  }
 ],
 "metadata": {
  "kaggle": {
   "accelerator": "none",
   "dataSources": [
    {
     "datasetId": 1150837,
     "sourceId": 1929264,
     "sourceType": "datasetVersion"
    },
    {
     "datasetId": 6136188,
     "sourceId": 9973429,
     "sourceType": "datasetVersion"
    }
   ],
   "dockerImageVersionId": 30786,
   "isGpuEnabled": false,
   "isInternetEnabled": true,
   "language": "python",
   "sourceType": "notebook"
  },
  "kernelspec": {
   "display_name": "Python 3 (ipykernel)",
   "language": "python",
   "name": "python3"
  },
  "language_info": {
   "codemirror_mode": {
    "name": "ipython",
    "version": 3
   },
   "file_extension": ".py",
   "mimetype": "text/x-python",
   "name": "python",
   "nbconvert_exporter": "python",
   "pygments_lexer": "ipython3",
   "version": "3.12.2"
  }
 },
 "nbformat": 4,
 "nbformat_minor": 4
}
